{
  "nbformat": 4,
  "nbformat_minor": 0,
  "metadata": {
    "colab": {
      "provenance": []
    },
    "kernelspec": {
      "name": "python3",
      "display_name": "Python 3"
    },
    "language_info": {
      "name": "python"
    }
  },
  "cells": [
    {
      "cell_type": "markdown",
      "source": [
        "Nama : Muhammad Daffa\n",
        "NIM  : 1103201258\n",
        "Kelas : TK-44-G4"
      ],
      "metadata": {
        "id": "aMXHrGf2K1VP"
      }
    },
    {
      "cell_type": "markdown",
      "source": [
        "prompt : beri kode untuk menghubungkan google colab dengan google drive dan berikan penjelasan perbaris."
      ],
      "metadata": {
        "id": "0_cXdHwhKVbo"
      }
    },
    {
      "cell_type": "markdown",
      "source": [
        "Penjelasan perbaris kode :\n",
        "1. Kode di bawah menggunakan modul google.colab untuk mengimpor fungsi drive yang memungkinkan kita mengakses Google Drive.\n",
        "2. Fungsi mount('/content/drive') akan meminta izin akses ke Google Drive dan membuat koneksi antara Colab dan Drive. Hasilnya, folder Drive akan muncul di direktori /content/drive."
      ],
      "metadata": {
        "id": "PdRbWFuyLdJM"
      }
    },
    {
      "cell_type": "code",
      "execution_count": 4,
      "metadata": {
        "colab": {
          "base_uri": "https://localhost:8080/"
        },
        "id": "a1R420mAKMpc",
        "outputId": "0ad112ae-a65e-4c5b-b8e9-d1d87aba3ad3"
      },
      "outputs": [
        {
          "output_type": "stream",
          "name": "stdout",
          "text": [
            "Drive already mounted at /content/drive; to attempt to forcibly remount, call drive.mount(\"/content/drive\", force_remount=True).\n"
          ]
        }
      ],
      "source": [
        "from google.colab import drive\n",
        "drive.mount('/content/drive')"
      ]
    },
    {
      "cell_type": "markdown",
      "source": [
        "prompt : beri kode untuk membaca dataset dan mengubah dataset sebagai dataframe dan berikan penjelasan perbaris kode"
      ],
      "metadata": {
        "id": "KK7t-Y2RMHYk"
      }
    },
    {
      "cell_type": "markdown",
      "source": [
        "Penjelasan perbaris kode :\n",
        "1. mengimpor perpustakaan Pandas dan memberikan alias 'pd' untuk memudahkan penggunaan.\n",
        "2. Ganti 'nama_file.csv' dengan nama file dataset yang sesuai dengan file di Google Drive Anda. Pastikan untuk menyimpan file tersebut di direktori yang dapat diakses oleh Google Colab.\n",
        "3. Fungsi pd.read_csv() digunakan untuk membaca dataset dari file CSV. Jika dataset Anda dalam format lain (misalnya Excel, SQL, dll.), Anda dapat menggunakan fungsi yang sesuai seperti pd.read_excel(), pd.read_sql(), dan sebagainya.\n",
        "4. Hasilnya disimpan dalam bentuk dataframe yang disebut 'df'.\n",
        "5. Fungsi head() digunakan untuk menampilkan beberapa baris pertama dari dataframe. Ini membantu Anda memeriksa apakah dataset telah berhasil dimuat dengan benar ke dalam dataframe.\n",
        "6. Jumlah baris yang ditampilkan dapat diatur dengan menyertakan argumen, misalnya df.head(10) untuk menampilkan 10 baris pertama."
      ],
      "metadata": {
        "id": "4NuoGoDZMPFm"
      }
    },
    {
      "cell_type": "code",
      "source": [
        "import pandas as pd\n",
        "\n",
        "# Ganti 'nama_file.csv' dengan nama file dataset Anda dan pastikan file tersebut ada di Google Drive Anda\n",
        "file_path = '/content/sample_data/wine-clustering.csv'\n",
        "\n",
        "# Membaca dataset dan menyimpannya ke dalam dataframe\n",
        "df = pd.read_csv(file_path)\n",
        "\n",
        "# Menampilkan beberapa baris pertama dari dataframe untuk memeriksa data\n",
        "df.head()\n"
      ],
      "metadata": {
        "colab": {
          "base_uri": "https://localhost:8080/",
          "height": 206
        },
        "id": "OKUHM344LqZD",
        "outputId": "4584527d-2afd-40be-d9f7-a436af603a76"
      },
      "execution_count": 5,
      "outputs": [
        {
          "output_type": "execute_result",
          "data": {
            "text/plain": [
              "   Alcohol  Malic_Acid   Ash  Ash_Alcanity  Magnesium  Total_Phenols  \\\n",
              "0    14.23        1.71  2.43          15.6        127           2.80   \n",
              "1    13.20        1.78  2.14          11.2        100           2.65   \n",
              "2    13.16        2.36  2.67          18.6        101           2.80   \n",
              "3    14.37        1.95  2.50          16.8        113           3.85   \n",
              "4    13.24        2.59  2.87          21.0        118           2.80   \n",
              "\n",
              "   Flavanoids  Nonflavanoid_Phenols  Proanthocyanins  Color_Intensity   Hue  \\\n",
              "0        3.06                  0.28             2.29             5.64  1.04   \n",
              "1        2.76                  0.26             1.28             4.38  1.05   \n",
              "2        3.24                  0.30             2.81             5.68  1.03   \n",
              "3        3.49                  0.24             2.18             7.80  0.86   \n",
              "4        2.69                  0.39             1.82             4.32  1.04   \n",
              "\n",
              "   OD280  Proline  \n",
              "0   3.92     1065  \n",
              "1   3.40     1050  \n",
              "2   3.17     1185  \n",
              "3   3.45     1480  \n",
              "4   2.93      735  "
            ],
            "text/html": [
              "\n",
              "  <div id=\"df-992b94fa-2b62-46f4-b8af-473c7a37cdfd\" class=\"colab-df-container\">\n",
              "    <div>\n",
              "<style scoped>\n",
              "    .dataframe tbody tr th:only-of-type {\n",
              "        vertical-align: middle;\n",
              "    }\n",
              "\n",
              "    .dataframe tbody tr th {\n",
              "        vertical-align: top;\n",
              "    }\n",
              "\n",
              "    .dataframe thead th {\n",
              "        text-align: right;\n",
              "    }\n",
              "</style>\n",
              "<table border=\"1\" class=\"dataframe\">\n",
              "  <thead>\n",
              "    <tr style=\"text-align: right;\">\n",
              "      <th></th>\n",
              "      <th>Alcohol</th>\n",
              "      <th>Malic_Acid</th>\n",
              "      <th>Ash</th>\n",
              "      <th>Ash_Alcanity</th>\n",
              "      <th>Magnesium</th>\n",
              "      <th>Total_Phenols</th>\n",
              "      <th>Flavanoids</th>\n",
              "      <th>Nonflavanoid_Phenols</th>\n",
              "      <th>Proanthocyanins</th>\n",
              "      <th>Color_Intensity</th>\n",
              "      <th>Hue</th>\n",
              "      <th>OD280</th>\n",
              "      <th>Proline</th>\n",
              "    </tr>\n",
              "  </thead>\n",
              "  <tbody>\n",
              "    <tr>\n",
              "      <th>0</th>\n",
              "      <td>14.23</td>\n",
              "      <td>1.71</td>\n",
              "      <td>2.43</td>\n",
              "      <td>15.6</td>\n",
              "      <td>127</td>\n",
              "      <td>2.80</td>\n",
              "      <td>3.06</td>\n",
              "      <td>0.28</td>\n",
              "      <td>2.29</td>\n",
              "      <td>5.64</td>\n",
              "      <td>1.04</td>\n",
              "      <td>3.92</td>\n",
              "      <td>1065</td>\n",
              "    </tr>\n",
              "    <tr>\n",
              "      <th>1</th>\n",
              "      <td>13.20</td>\n",
              "      <td>1.78</td>\n",
              "      <td>2.14</td>\n",
              "      <td>11.2</td>\n",
              "      <td>100</td>\n",
              "      <td>2.65</td>\n",
              "      <td>2.76</td>\n",
              "      <td>0.26</td>\n",
              "      <td>1.28</td>\n",
              "      <td>4.38</td>\n",
              "      <td>1.05</td>\n",
              "      <td>3.40</td>\n",
              "      <td>1050</td>\n",
              "    </tr>\n",
              "    <tr>\n",
              "      <th>2</th>\n",
              "      <td>13.16</td>\n",
              "      <td>2.36</td>\n",
              "      <td>2.67</td>\n",
              "      <td>18.6</td>\n",
              "      <td>101</td>\n",
              "      <td>2.80</td>\n",
              "      <td>3.24</td>\n",
              "      <td>0.30</td>\n",
              "      <td>2.81</td>\n",
              "      <td>5.68</td>\n",
              "      <td>1.03</td>\n",
              "      <td>3.17</td>\n",
              "      <td>1185</td>\n",
              "    </tr>\n",
              "    <tr>\n",
              "      <th>3</th>\n",
              "      <td>14.37</td>\n",
              "      <td>1.95</td>\n",
              "      <td>2.50</td>\n",
              "      <td>16.8</td>\n",
              "      <td>113</td>\n",
              "      <td>3.85</td>\n",
              "      <td>3.49</td>\n",
              "      <td>0.24</td>\n",
              "      <td>2.18</td>\n",
              "      <td>7.80</td>\n",
              "      <td>0.86</td>\n",
              "      <td>3.45</td>\n",
              "      <td>1480</td>\n",
              "    </tr>\n",
              "    <tr>\n",
              "      <th>4</th>\n",
              "      <td>13.24</td>\n",
              "      <td>2.59</td>\n",
              "      <td>2.87</td>\n",
              "      <td>21.0</td>\n",
              "      <td>118</td>\n",
              "      <td>2.80</td>\n",
              "      <td>2.69</td>\n",
              "      <td>0.39</td>\n",
              "      <td>1.82</td>\n",
              "      <td>4.32</td>\n",
              "      <td>1.04</td>\n",
              "      <td>2.93</td>\n",
              "      <td>735</td>\n",
              "    </tr>\n",
              "  </tbody>\n",
              "</table>\n",
              "</div>\n",
              "    <div class=\"colab-df-buttons\">\n",
              "\n",
              "  <div class=\"colab-df-container\">\n",
              "    <button class=\"colab-df-convert\" onclick=\"convertToInteractive('df-992b94fa-2b62-46f4-b8af-473c7a37cdfd')\"\n",
              "            title=\"Convert this dataframe to an interactive table.\"\n",
              "            style=\"display:none;\">\n",
              "\n",
              "  <svg xmlns=\"http://www.w3.org/2000/svg\" height=\"24px\" viewBox=\"0 -960 960 960\">\n",
              "    <path d=\"M120-120v-720h720v720H120Zm60-500h600v-160H180v160Zm220 220h160v-160H400v160Zm0 220h160v-160H400v160ZM180-400h160v-160H180v160Zm440 0h160v-160H620v160ZM180-180h160v-160H180v160Zm440 0h160v-160H620v160Z\"/>\n",
              "  </svg>\n",
              "    </button>\n",
              "\n",
              "  <style>\n",
              "    .colab-df-container {\n",
              "      display:flex;\n",
              "      gap: 12px;\n",
              "    }\n",
              "\n",
              "    .colab-df-convert {\n",
              "      background-color: #E8F0FE;\n",
              "      border: none;\n",
              "      border-radius: 50%;\n",
              "      cursor: pointer;\n",
              "      display: none;\n",
              "      fill: #1967D2;\n",
              "      height: 32px;\n",
              "      padding: 0 0 0 0;\n",
              "      width: 32px;\n",
              "    }\n",
              "\n",
              "    .colab-df-convert:hover {\n",
              "      background-color: #E2EBFA;\n",
              "      box-shadow: 0px 1px 2px rgba(60, 64, 67, 0.3), 0px 1px 3px 1px rgba(60, 64, 67, 0.15);\n",
              "      fill: #174EA6;\n",
              "    }\n",
              "\n",
              "    .colab-df-buttons div {\n",
              "      margin-bottom: 4px;\n",
              "    }\n",
              "\n",
              "    [theme=dark] .colab-df-convert {\n",
              "      background-color: #3B4455;\n",
              "      fill: #D2E3FC;\n",
              "    }\n",
              "\n",
              "    [theme=dark] .colab-df-convert:hover {\n",
              "      background-color: #434B5C;\n",
              "      box-shadow: 0px 1px 3px 1px rgba(0, 0, 0, 0.15);\n",
              "      filter: drop-shadow(0px 1px 2px rgba(0, 0, 0, 0.3));\n",
              "      fill: #FFFFFF;\n",
              "    }\n",
              "  </style>\n",
              "\n",
              "    <script>\n",
              "      const buttonEl =\n",
              "        document.querySelector('#df-992b94fa-2b62-46f4-b8af-473c7a37cdfd button.colab-df-convert');\n",
              "      buttonEl.style.display =\n",
              "        google.colab.kernel.accessAllowed ? 'block' : 'none';\n",
              "\n",
              "      async function convertToInteractive(key) {\n",
              "        const element = document.querySelector('#df-992b94fa-2b62-46f4-b8af-473c7a37cdfd');\n",
              "        const dataTable =\n",
              "          await google.colab.kernel.invokeFunction('convertToInteractive',\n",
              "                                                    [key], {});\n",
              "        if (!dataTable) return;\n",
              "\n",
              "        const docLinkHtml = 'Like what you see? Visit the ' +\n",
              "          '<a target=\"_blank\" href=https://colab.research.google.com/notebooks/data_table.ipynb>data table notebook</a>'\n",
              "          + ' to learn more about interactive tables.';\n",
              "        element.innerHTML = '';\n",
              "        dataTable['output_type'] = 'display_data';\n",
              "        await google.colab.output.renderOutput(dataTable, element);\n",
              "        const docLink = document.createElement('div');\n",
              "        docLink.innerHTML = docLinkHtml;\n",
              "        element.appendChild(docLink);\n",
              "      }\n",
              "    </script>\n",
              "  </div>\n",
              "\n",
              "\n",
              "<div id=\"df-09ed8c5a-810b-45e9-acd1-5dcd7b28c97f\">\n",
              "  <button class=\"colab-df-quickchart\" onclick=\"quickchart('df-09ed8c5a-810b-45e9-acd1-5dcd7b28c97f')\"\n",
              "            title=\"Suggest charts\"\n",
              "            style=\"display:none;\">\n",
              "\n",
              "<svg xmlns=\"http://www.w3.org/2000/svg\" height=\"24px\"viewBox=\"0 0 24 24\"\n",
              "     width=\"24px\">\n",
              "    <g>\n",
              "        <path d=\"M19 3H5c-1.1 0-2 .9-2 2v14c0 1.1.9 2 2 2h14c1.1 0 2-.9 2-2V5c0-1.1-.9-2-2-2zM9 17H7v-7h2v7zm4 0h-2V7h2v10zm4 0h-2v-4h2v4z\"/>\n",
              "    </g>\n",
              "</svg>\n",
              "  </button>\n",
              "\n",
              "<style>\n",
              "  .colab-df-quickchart {\n",
              "      --bg-color: #E8F0FE;\n",
              "      --fill-color: #1967D2;\n",
              "      --hover-bg-color: #E2EBFA;\n",
              "      --hover-fill-color: #174EA6;\n",
              "      --disabled-fill-color: #AAA;\n",
              "      --disabled-bg-color: #DDD;\n",
              "  }\n",
              "\n",
              "  [theme=dark] .colab-df-quickchart {\n",
              "      --bg-color: #3B4455;\n",
              "      --fill-color: #D2E3FC;\n",
              "      --hover-bg-color: #434B5C;\n",
              "      --hover-fill-color: #FFFFFF;\n",
              "      --disabled-bg-color: #3B4455;\n",
              "      --disabled-fill-color: #666;\n",
              "  }\n",
              "\n",
              "  .colab-df-quickchart {\n",
              "    background-color: var(--bg-color);\n",
              "    border: none;\n",
              "    border-radius: 50%;\n",
              "    cursor: pointer;\n",
              "    display: none;\n",
              "    fill: var(--fill-color);\n",
              "    height: 32px;\n",
              "    padding: 0;\n",
              "    width: 32px;\n",
              "  }\n",
              "\n",
              "  .colab-df-quickchart:hover {\n",
              "    background-color: var(--hover-bg-color);\n",
              "    box-shadow: 0 1px 2px rgba(60, 64, 67, 0.3), 0 1px 3px 1px rgba(60, 64, 67, 0.15);\n",
              "    fill: var(--button-hover-fill-color);\n",
              "  }\n",
              "\n",
              "  .colab-df-quickchart-complete:disabled,\n",
              "  .colab-df-quickchart-complete:disabled:hover {\n",
              "    background-color: var(--disabled-bg-color);\n",
              "    fill: var(--disabled-fill-color);\n",
              "    box-shadow: none;\n",
              "  }\n",
              "\n",
              "  .colab-df-spinner {\n",
              "    border: 2px solid var(--fill-color);\n",
              "    border-color: transparent;\n",
              "    border-bottom-color: var(--fill-color);\n",
              "    animation:\n",
              "      spin 1s steps(1) infinite;\n",
              "  }\n",
              "\n",
              "  @keyframes spin {\n",
              "    0% {\n",
              "      border-color: transparent;\n",
              "      border-bottom-color: var(--fill-color);\n",
              "      border-left-color: var(--fill-color);\n",
              "    }\n",
              "    20% {\n",
              "      border-color: transparent;\n",
              "      border-left-color: var(--fill-color);\n",
              "      border-top-color: var(--fill-color);\n",
              "    }\n",
              "    30% {\n",
              "      border-color: transparent;\n",
              "      border-left-color: var(--fill-color);\n",
              "      border-top-color: var(--fill-color);\n",
              "      border-right-color: var(--fill-color);\n",
              "    }\n",
              "    40% {\n",
              "      border-color: transparent;\n",
              "      border-right-color: var(--fill-color);\n",
              "      border-top-color: var(--fill-color);\n",
              "    }\n",
              "    60% {\n",
              "      border-color: transparent;\n",
              "      border-right-color: var(--fill-color);\n",
              "    }\n",
              "    80% {\n",
              "      border-color: transparent;\n",
              "      border-right-color: var(--fill-color);\n",
              "      border-bottom-color: var(--fill-color);\n",
              "    }\n",
              "    90% {\n",
              "      border-color: transparent;\n",
              "      border-bottom-color: var(--fill-color);\n",
              "    }\n",
              "  }\n",
              "</style>\n",
              "\n",
              "  <script>\n",
              "    async function quickchart(key) {\n",
              "      const quickchartButtonEl =\n",
              "        document.querySelector('#' + key + ' button');\n",
              "      quickchartButtonEl.disabled = true;  // To prevent multiple clicks.\n",
              "      quickchartButtonEl.classList.add('colab-df-spinner');\n",
              "      try {\n",
              "        const charts = await google.colab.kernel.invokeFunction(\n",
              "            'suggestCharts', [key], {});\n",
              "      } catch (error) {\n",
              "        console.error('Error during call to suggestCharts:', error);\n",
              "      }\n",
              "      quickchartButtonEl.classList.remove('colab-df-spinner');\n",
              "      quickchartButtonEl.classList.add('colab-df-quickchart-complete');\n",
              "    }\n",
              "    (() => {\n",
              "      let quickchartButtonEl =\n",
              "        document.querySelector('#df-09ed8c5a-810b-45e9-acd1-5dcd7b28c97f button');\n",
              "      quickchartButtonEl.style.display =\n",
              "        google.colab.kernel.accessAllowed ? 'block' : 'none';\n",
              "    })();\n",
              "  </script>\n",
              "</div>\n",
              "    </div>\n",
              "  </div>\n"
            ]
          },
          "metadata": {},
          "execution_count": 5
        }
      ]
    },
    {
      "cell_type": "markdown",
      "source": [
        "prompt : beri kode untuk memvisualisasikan jumlah elbow method dengan maksimal jumlah k=10 pada dataframe bernama df, dan nama columns 'Alcohol','Malic_Acid','Ash','Ash_Alcanity','Magnesium','Total_Phenols','\tFlavanoids',\t'Nonflavanoid_Phenols','Proanthocyanins','Color_Intensity','Hue','OD280','Proline'. dan jelaskan perbaris kode.\n",
        "\n"
      ],
      "metadata": {
        "id": "eCJPSFEYM84D"
      }
    },
    {
      "cell_type": "markdown",
      "source": [
        "Penjelasan perbaris kode :\n",
        "1. Mengimpor perpustakaan yang diperlukan, seperti Pandas untuk manipulasi dataframe, Matplotlib untuk visualisasi, KMeans dari scikit-learn untuk k-means clustering, dan StandardScaler untuk standarisasi data.\n",
        "2. Memilih subset dari dataframe df berdasarkan kolom yang disebutkan.\n",
        "3. Melakukan standarisasi data untuk memastikan bahwa semua variabel memiliki skala yang serupa.\n",
        "4. Melakukan k-means clustering dengan jumlah cluster (k) dari 1 hingga 10.\n",
        "5. Menghitung inersia (within-cluster sum of squares) untuk setiap jumlah cluster k.\n",
        "6. Memvisualisasikan Elbow Method dengan plot jumlah cluster (k) versus inersia.\n",
        "7. Elbow method membantu kita memilih jumlah cluster optimal di mana penurunan inersia mulai melambat (mirip dengan siku dalam bentuk \"elbow\")."
      ],
      "metadata": {
        "id": "N07xQ778PEoz"
      }
    },
    {
      "cell_type": "code",
      "source": [
        "import pandas as pd\n",
        "import matplotlib.pyplot as plt\n",
        "from sklearn.cluster import KMeans\n",
        "from sklearn.preprocessing import StandardScaler\n",
        "\n",
        "# Mengambil subset dari dataframe df berdasarkan kolom yang disebutkan\n",
        "selected_columns = ['Alcohol', 'Malic_Acid', 'Ash', 'Ash_Alcanity', 'Magnesium', 'Total_Phenols', 'Flavanoids',\n",
        "                     'Nonflavanoid_Phenols', 'Proanthocyanins', 'Color_Intensity', 'Hue', 'OD280', 'Proline']\n",
        "subset_df = df[selected_columns]\n",
        "\n",
        "# Standarisasi data\n",
        "scaler = StandardScaler()\n",
        "scaled_data = scaler.fit_transform(subset_df)\n",
        "\n",
        "# Menyimpan inersia (within-cluster sum of squares) untuk setiap jumlah cluster k\n",
        "inertia = []\n",
        "for k in range(1, 11):\n",
        "    kmeans = KMeans(n_clusters=k, random_state=42)\n",
        "    kmeans.fit(scaled_data)\n",
        "    inertia.append(kmeans.inertia_)\n",
        "\n",
        "# Memvisualisasikan Elbow Method\n",
        "plt.figure(figsize=(8, 6))\n",
        "plt.plot(range(1, 11), inertia, marker='o')\n",
        "plt.title('Elbow Method for Optimal k')\n",
        "plt.xlabel('Number of Clusters (k)')\n",
        "plt.ylabel('Inertia')\n",
        "plt.show()\n"
      ],
      "metadata": {
        "colab": {
          "base_uri": "https://localhost:8080/",
          "height": 931
        },
        "id": "57gLZlg5M8RF",
        "outputId": "3cd9b3f9-bc5f-430a-a8b2-f8e162e0020b"
      },
      "execution_count": 6,
      "outputs": [
        {
          "output_type": "stream",
          "name": "stderr",
          "text": [
            "/usr/local/lib/python3.10/dist-packages/sklearn/cluster/_kmeans.py:870: FutureWarning: The default value of `n_init` will change from 10 to 'auto' in 1.4. Set the value of `n_init` explicitly to suppress the warning\n",
            "  warnings.warn(\n",
            "/usr/local/lib/python3.10/dist-packages/sklearn/cluster/_kmeans.py:870: FutureWarning: The default value of `n_init` will change from 10 to 'auto' in 1.4. Set the value of `n_init` explicitly to suppress the warning\n",
            "  warnings.warn(\n",
            "/usr/local/lib/python3.10/dist-packages/sklearn/cluster/_kmeans.py:870: FutureWarning: The default value of `n_init` will change from 10 to 'auto' in 1.4. Set the value of `n_init` explicitly to suppress the warning\n",
            "  warnings.warn(\n",
            "/usr/local/lib/python3.10/dist-packages/sklearn/cluster/_kmeans.py:870: FutureWarning: The default value of `n_init` will change from 10 to 'auto' in 1.4. Set the value of `n_init` explicitly to suppress the warning\n",
            "  warnings.warn(\n",
            "/usr/local/lib/python3.10/dist-packages/sklearn/cluster/_kmeans.py:870: FutureWarning: The default value of `n_init` will change from 10 to 'auto' in 1.4. Set the value of `n_init` explicitly to suppress the warning\n",
            "  warnings.warn(\n",
            "/usr/local/lib/python3.10/dist-packages/sklearn/cluster/_kmeans.py:870: FutureWarning: The default value of `n_init` will change from 10 to 'auto' in 1.4. Set the value of `n_init` explicitly to suppress the warning\n",
            "  warnings.warn(\n",
            "/usr/local/lib/python3.10/dist-packages/sklearn/cluster/_kmeans.py:870: FutureWarning: The default value of `n_init` will change from 10 to 'auto' in 1.4. Set the value of `n_init` explicitly to suppress the warning\n",
            "  warnings.warn(\n",
            "/usr/local/lib/python3.10/dist-packages/sklearn/cluster/_kmeans.py:870: FutureWarning: The default value of `n_init` will change from 10 to 'auto' in 1.4. Set the value of `n_init` explicitly to suppress the warning\n",
            "  warnings.warn(\n",
            "/usr/local/lib/python3.10/dist-packages/sklearn/cluster/_kmeans.py:870: FutureWarning: The default value of `n_init` will change from 10 to 'auto' in 1.4. Set the value of `n_init` explicitly to suppress the warning\n",
            "  warnings.warn(\n",
            "/usr/local/lib/python3.10/dist-packages/sklearn/cluster/_kmeans.py:870: FutureWarning: The default value of `n_init` will change from 10 to 'auto' in 1.4. Set the value of `n_init` explicitly to suppress the warning\n",
            "  warnings.warn(\n"
          ]
        },
        {
          "output_type": "display_data",
          "data": {
            "text/plain": [
              "<Figure size 800x600 with 1 Axes>"
            ],
            "image/png": "[encoded data removed]"
          },
          "metadata": {}
        }
      ]
    },
    {
      "cell_type": "markdown",
      "source": [
        "prompt : dengan dataframe bernama df, beri kode untuk membuat model k means clustering yang berisi atribut 'Alcohol','Malic_Acid','Ash','Ash_Alcanity','Magnesium','Total_Phenols','\tFlavanoids',\t'Nonflavanoid_Phenols','Proanthocyanins','Color_Intensity','Hue','OD280','Proline' jumlah cluster=5 dan beri kolom baru bernama label dan visualisasikan berdasarkan label. berikan juga penjelasan perbaris kode."
      ],
      "metadata": {
        "id": "RWNb56lCUHig"
      }
    },
    {
      "cell_type": "markdown",
      "source": [
        "Penjelasan perbaris kode :\n",
        "1. Mengimpor perpustakaan yang diperlukan, termasuk Pandas untuk manipulasi dataframe, Matplotlib untuk visualisasi, KMeans dari scikit-learn untuk k-means clustering, dan StandardScaler untuk standarisasi data.\n",
        "2. Memilih subset dari dataframe df berdasarkan kolom yang disebutkan.\n",
        "3. Melakukan standarisasi data untuk memastikan bahwa semua variabel memiliki skala yang serupa.\n",
        "4. Membuat model k-means dengan jumlah cluster (n_clusters) sebanyak 5.\n",
        "5. Menambahkan kolom baru 'label' ke dataframe yang berisi label cluster untuk setiap data.\n",
        "6. Melakukan loop untuk setiap label dan visualisasi scatter plot untuk setiap cluster.\n",
        "7. Menambahkan scatter plot untuk pusat cluster (centroids) yang ditandai dengan warna merah dan simbol 'X'.\n",
        "8. Menampilkan judul dan label sumbu untuk plot.\n",
        "9. Menampilkan legenda untuk membedakan cluster."
      ],
      "metadata": {
        "id": "ist4SDISUMVL"
      }
    },
    {
      "cell_type": "code",
      "source": [
        "import pandas as pd\n",
        "import matplotlib.pyplot as plt\n",
        "from sklearn.cluster import KMeans\n",
        "from sklearn.preprocessing import StandardScaler\n",
        "\n",
        "# Mengambil subset dari dataframe df berdasarkan kolom yang disebutkan\n",
        "selected_columns = ['Alcohol', 'Malic_Acid', 'Ash', 'Ash_Alcanity', 'Magnesium', 'Total_Phenols', 'Flavanoids',\n",
        "                     'Nonflavanoid_Phenols', 'Proanthocyanins', 'Color_Intensity', 'Hue', 'OD280', 'Proline']\n",
        "subset_df = df[selected_columns]\n",
        "\n",
        "# Standarisasi data\n",
        "scaler = StandardScaler()\n",
        "scaled_data = scaler.fit_transform(subset_df)\n",
        "\n",
        "# Membuat model KMeans dengan jumlah cluster=5\n",
        "kmeans = KMeans(n_clusters=5, random_state=42)\n",
        "df['label'] = kmeans.fit_predict(scaled_data)\n",
        "\n",
        "# Visualisasi berdasarkan label\n",
        "plt.figure(figsize=(10, 6))\n",
        "\n",
        "# Loop untuk setiap label dan visualisasikan scatter plot\n",
        "for label in df['label'].unique():\n",
        "    cluster = df[df['label'] == label]\n",
        "    plt.scatter(cluster['Alcohol'], cluster['Malic_Acid'], label=f'Cluster {label}')\n",
        "\n",
        "plt.scatter(kmeans.cluster_centers_[:, 0], kmeans.cluster_centers_[:, 1], s=300, c='red', marker='X', label='Centroids')\n",
        "plt.title('K-Means Clustering (k=5)')\n",
        "plt.xlabel('Alcohol')\n",
        "plt.ylabel('Malic_Acid')\n",
        "plt.legend()\n",
        "plt.show()\n"
      ],
      "metadata": {
        "colab": {
          "base_uri": "https://localhost:8080/",
          "height": 619
        },
        "id": "Vnhf6eD6T7rY",
        "outputId": "4edac7a4-d45c-49b2-d8c8-3a7892d2fe99"
      },
      "execution_count": 7,
      "outputs": [
        {
          "output_type": "stream",
          "name": "stderr",
          "text": [
            "/usr/local/lib/python3.10/dist-packages/sklearn/cluster/_kmeans.py:870: FutureWarning: The default value of `n_init` will change from 10 to 'auto' in 1.4. Set the value of `n_init` explicitly to suppress the warning\n",
            "  warnings.warn(\n"
          ]
        },
        {
          "output_type": "display_data",
          "data": {
            "text/plain": [
              "<Figure size 1000x600 with 1 Axes>"
            ],
            "image/png": "[encoded data removed]"
          },
          "metadata": {}
        }
      ]
    },
    {
      "cell_type": "markdown",
      "source": [
        "prompt : beri kode untuk menghitung nilai sillhouette score untuk k=2 hingga k=10. berikan penjelasan perbaris kode."
      ],
      "metadata": {
        "id": "OUnzLubbVJu9"
      }
    },
    {
      "cell_type": "markdown",
      "source": [
        "Penjelasan perbaris kode :\n",
        "1. Mengimpor perpustakaan yang diperlukan, termasuk Pandas untuk manipulasi dataframe, KMeans dan silhouette_score dari scikit-learn untuk k-means clustering dan pengukuran Silhouette Score, serta StandardScaler untuk standarisasi data.\n",
        "2. Memilih subset dari dataframe df berdasarkan kolom yang disebutkan.\n",
        "3. Melakukan standarisasi data untuk memastikan bahwa semua variabel memiliki skala yang serupa.\n",
        "4. Melakukan loop untuk setiap nilai k dari 2 hingga 10.\n",
        "5. Membuat model K-Means dengan jumlah cluster k.\n",
        "6. Menghitung label cluster untuk setiap data.\n",
        "Menghitung nilai Silhouette Score dan mencetaknya. Nilai Silhouette Score berkisar antara -1 dan 1, dengan nilai lebih tinggi menunjukkan cluster yang lebih baik terdefinisi."
      ],
      "metadata": {
        "id": "Jq0apRB1VO8Z"
      }
    },
    {
      "cell_type": "code",
      "source": [
        "import pandas as pd\n",
        "from sklearn.cluster import KMeans\n",
        "from sklearn.metrics import silhouette_score\n",
        "from sklearn.preprocessing import StandardScaler\n",
        "\n",
        "# Mengambil subset dari dataframe df berdasarkan kolom yang disebutkan\n",
        "selected_columns = ['Alcohol', 'Malic_Acid', 'Ash', 'Ash_Alcanity', 'Magnesium', 'Total_Phenols', 'Flavanoids',\n",
        "                     'Nonflavanoid_Phenols', 'Proanthocyanins', 'Color_Intensity', 'Hue', 'OD280', 'Proline']\n",
        "subset_df = df[selected_columns]\n",
        "\n",
        "# Standarisasi data\n",
        "scaler = StandardScaler()\n",
        "scaled_data = scaler.fit_transform(subset_df)\n",
        "\n",
        "# Menghitung Silhouette Score untuk k=2 hingga k=10\n",
        "for k in range(2, 11):\n",
        "    kmeans = KMeans(n_clusters=k, random_state=42)\n",
        "    labels = kmeans.fit_predict(scaled_data)\n",
        "    silhouette_avg = silhouette_score(scaled_data, labels)\n",
        "    print(f\"For k={k}, the silhouette score is {silhouette_avg:.4f}\")\n"
      ],
      "metadata": {
        "colab": {
          "base_uri": "https://localhost:8080/"
        },
        "id": "8zbPfgLVU8R4",
        "outputId": "356d75a0-a7fa-4c48-a7ef-e7e2b5f481bc"
      },
      "execution_count": 8,
      "outputs": [
        {
          "output_type": "stream",
          "name": "stderr",
          "text": [
            "/usr/local/lib/python3.10/dist-packages/sklearn/cluster/_kmeans.py:870: FutureWarning: The default value of `n_init` will change from 10 to 'auto' in 1.4. Set the value of `n_init` explicitly to suppress the warning\n",
            "  warnings.warn(\n"
          ]
        },
        {
          "output_type": "stream",
          "name": "stdout",
          "text": [
            "For k=2, the silhouette score is 0.2683\n"
          ]
        },
        {
          "output_type": "stream",
          "name": "stderr",
          "text": [
            "/usr/local/lib/python3.10/dist-packages/sklearn/cluster/_kmeans.py:870: FutureWarning: The default value of `n_init` will change from 10 to 'auto' in 1.4. Set the value of `n_init` explicitly to suppress the warning\n",
            "  warnings.warn(\n"
          ]
        },
        {
          "output_type": "stream",
          "name": "stdout",
          "text": [
            "For k=3, the silhouette score is 0.2849\n"
          ]
        },
        {
          "output_type": "stream",
          "name": "stderr",
          "text": [
            "/usr/local/lib/python3.10/dist-packages/sklearn/cluster/_kmeans.py:870: FutureWarning: The default value of `n_init` will change from 10 to 'auto' in 1.4. Set the value of `n_init` explicitly to suppress the warning\n",
            "  warnings.warn(\n"
          ]
        },
        {
          "output_type": "stream",
          "name": "stdout",
          "text": [
            "For k=4, the silhouette score is 0.2517\n",
            "For k=5, the silhouette score is 0.2272\n"
          ]
        },
        {
          "output_type": "stream",
          "name": "stderr",
          "text": [
            "/usr/local/lib/python3.10/dist-packages/sklearn/cluster/_kmeans.py:870: FutureWarning: The default value of `n_init` will change from 10 to 'auto' in 1.4. Set the value of `n_init` explicitly to suppress the warning\n",
            "  warnings.warn(\n",
            "/usr/local/lib/python3.10/dist-packages/sklearn/cluster/_kmeans.py:870: FutureWarning: The default value of `n_init` will change from 10 to 'auto' in 1.4. Set the value of `n_init` explicitly to suppress the warning\n",
            "  warnings.warn(\n"
          ]
        },
        {
          "output_type": "stream",
          "name": "stdout",
          "text": [
            "For k=6, the silhouette score is 0.1958\n",
            "For k=7, the silhouette score is 0.2091\n"
          ]
        },
        {
          "output_type": "stream",
          "name": "stderr",
          "text": [
            "/usr/local/lib/python3.10/dist-packages/sklearn/cluster/_kmeans.py:870: FutureWarning: The default value of `n_init` will change from 10 to 'auto' in 1.4. Set the value of `n_init` explicitly to suppress the warning\n",
            "  warnings.warn(\n",
            "/usr/local/lib/python3.10/dist-packages/sklearn/cluster/_kmeans.py:870: FutureWarning: The default value of `n_init` will change from 10 to 'auto' in 1.4. Set the value of `n_init` explicitly to suppress the warning\n",
            "  warnings.warn(\n"
          ]
        },
        {
          "output_type": "stream",
          "name": "stdout",
          "text": [
            "For k=8, the silhouette score is 0.1358\n"
          ]
        },
        {
          "output_type": "stream",
          "name": "stderr",
          "text": [
            "/usr/local/lib/python3.10/dist-packages/sklearn/cluster/_kmeans.py:870: FutureWarning: The default value of `n_init` will change from 10 to 'auto' in 1.4. Set the value of `n_init` explicitly to suppress the warning\n",
            "  warnings.warn(\n"
          ]
        },
        {
          "output_type": "stream",
          "name": "stdout",
          "text": [
            "For k=9, the silhouette score is 0.1458\n"
          ]
        },
        {
          "output_type": "stream",
          "name": "stderr",
          "text": [
            "/usr/local/lib/python3.10/dist-packages/sklearn/cluster/_kmeans.py:870: FutureWarning: The default value of `n_init` will change from 10 to 'auto' in 1.4. Set the value of `n_init` explicitly to suppress the warning\n",
            "  warnings.warn(\n"
          ]
        },
        {
          "output_type": "stream",
          "name": "stdout",
          "text": [
            "For k=10, the silhouette score is 0.1339\n"
          ]
        }
      ]
    },
    {
      "cell_type": "markdown",
      "source": [
        "prompt : beri kode untuk menghitung nilai Davies Bouldin Index score untuk k=2 hingga k=10. berikan penjelasan perbaris kode."
      ],
      "metadata": {
        "id": "MQaqB3rYWC6X"
      }
    },
    {
      "cell_type": "markdown",
      "source": [
        "Penjelasan perbaris kode :\n",
        "1. Mengimpor perpustakaan yang diperlukan, termasuk KMeans untuk k-means clustering, davies_bouldin_score untuk menghitung Davies-Bouldin Index, dan StandardScaler untuk standarisasi data.\n",
        "2. Memilih subset dari dataframe df berdasarkan kolom yang disebutkan.\n",
        "3. Melakukan standarisasi data untuk memastikan bahwa semua variabel memiliki skala yang serupa.\n",
        "4. Loop untuk setiap nilai k dari 2 hingga 10.\n",
        "5. Membuat model k-means untuk setiap nilai k, mendapatkan label cluster, dan menghitung Davies-Bouldin Index.\n",
        "6. Menyimpan nilai DBI dalam list dbi_scores.\n",
        "7. Menampilkan hasil Davies-Bouldin Index untuk setiap nilai k dari 2 hingga 10. Semakin rendah nilai DBI, semakin baik partisi clusteringnya."
      ],
      "metadata": {
        "id": "53tZvQkYWGWT"
      }
    },
    {
      "cell_type": "code",
      "source": [
        "from sklearn.cluster import KMeans\n",
        "from sklearn.metrics import davies_bouldin_score\n",
        "from sklearn.preprocessing import StandardScaler\n",
        "\n",
        "# Mengambil subset dari dataframe df berdasarkan kolom yang disebutkan\n",
        "selected_columns = ['Alcohol', 'Malic_Acid', 'Ash', 'Ash_Alcanity', 'Magnesium', 'Total_Phenols', 'Flavanoids',\n",
        "                     'Nonflavanoid_Phenols', 'Proanthocyanins', 'Color_Intensity', 'Hue', 'OD280', 'Proline']\n",
        "subset_df = df[selected_columns]\n",
        "\n",
        "# Standarisasi data\n",
        "scaler = StandardScaler()\n",
        "scaled_data = scaler.fit_transform(subset_df)\n",
        "\n",
        "# Inisialisasi list untuk menyimpan nilai Davies-Bouldin Index\n",
        "dbi_scores = []\n",
        "\n",
        "# Loop untuk nilai k dari 2 hingga 10\n",
        "for k in range(2, 11):\n",
        "    # Membuat model KMeans\n",
        "    kmeans = KMeans(n_clusters=k, random_state=42)\n",
        "\n",
        "    # Mendapatkan label cluster untuk setiap data\n",
        "    labels = kmeans.fit_predict(scaled_data)\n",
        "\n",
        "    # Menghitung Davies-Bouldin Index dan menyimpannya\n",
        "    dbi = davies_bouldin_score(scaled_data, labels)\n",
        "    dbi_scores.append(dbi)\n",
        "\n",
        "# Menampilkan hasil\n",
        "for k, dbi in zip(range(2, 11), dbi_scores):\n",
        "    print(f'Clusters: {k}, Davies-Bouldin Index: {dbi}')\n"
      ],
      "metadata": {
        "colab": {
          "base_uri": "https://localhost:8080/"
        },
        "id": "pRhVlDw2VvPK",
        "outputId": "1fb57e70-b810-4642-d306-ceb11cf4bfd1"
      },
      "execution_count": 9,
      "outputs": [
        {
          "output_type": "stream",
          "name": "stderr",
          "text": [
            "/usr/local/lib/python3.10/dist-packages/sklearn/cluster/_kmeans.py:870: FutureWarning: The default value of `n_init` will change from 10 to 'auto' in 1.4. Set the value of `n_init` explicitly to suppress the warning\n",
            "  warnings.warn(\n",
            "/usr/local/lib/python3.10/dist-packages/sklearn/cluster/_kmeans.py:870: FutureWarning: The default value of `n_init` will change from 10 to 'auto' in 1.4. Set the value of `n_init` explicitly to suppress the warning\n",
            "  warnings.warn(\n",
            "/usr/local/lib/python3.10/dist-packages/sklearn/cluster/_kmeans.py:870: FutureWarning: The default value of `n_init` will change from 10 to 'auto' in 1.4. Set the value of `n_init` explicitly to suppress the warning\n",
            "  warnings.warn(\n",
            "/usr/local/lib/python3.10/dist-packages/sklearn/cluster/_kmeans.py:870: FutureWarning: The default value of `n_init` will change from 10 to 'auto' in 1.4. Set the value of `n_init` explicitly to suppress the warning\n",
            "  warnings.warn(\n",
            "/usr/local/lib/python3.10/dist-packages/sklearn/cluster/_kmeans.py:870: FutureWarning: The default value of `n_init` will change from 10 to 'auto' in 1.4. Set the value of `n_init` explicitly to suppress the warning\n",
            "  warnings.warn(\n",
            "/usr/local/lib/python3.10/dist-packages/sklearn/cluster/_kmeans.py:870: FutureWarning: The default value of `n_init` will change from 10 to 'auto' in 1.4. Set the value of `n_init` explicitly to suppress the warning\n",
            "  warnings.warn(\n",
            "/usr/local/lib/python3.10/dist-packages/sklearn/cluster/_kmeans.py:870: FutureWarning: The default value of `n_init` will change from 10 to 'auto' in 1.4. Set the value of `n_init` explicitly to suppress the warning\n",
            "  warnings.warn(\n",
            "/usr/local/lib/python3.10/dist-packages/sklearn/cluster/_kmeans.py:870: FutureWarning: The default value of `n_init` will change from 10 to 'auto' in 1.4. Set the value of `n_init` explicitly to suppress the warning\n",
            "  warnings.warn(\n",
            "/usr/local/lib/python3.10/dist-packages/sklearn/cluster/_kmeans.py:870: FutureWarning: The default value of `n_init` will change from 10 to 'auto' in 1.4. Set the value of `n_init` explicitly to suppress the warning\n",
            "  warnings.warn(\n"
          ]
        },
        {
          "output_type": "stream",
          "name": "stdout",
          "text": [
            "Clusters: 2, Davies-Bouldin Index: 1.4482356342193663\n",
            "Clusters: 3, Davies-Bouldin Index: 1.3891879777181648\n",
            "Clusters: 4, Davies-Bouldin Index: 1.8172221736430871\n",
            "Clusters: 5, Davies-Bouldin Index: 1.691307828823519\n",
            "Clusters: 6, Davies-Bouldin Index: 1.8331229633562307\n",
            "Clusters: 7, Davies-Bouldin Index: 1.5976184554552624\n",
            "Clusters: 8, Davies-Bouldin Index: 1.8331341512591757\n",
            "Clusters: 9, Davies-Bouldin Index: 1.7470045075967962\n",
            "Clusters: 10, Davies-Bouldin Index: 1.7486279882426885\n"
          ]
        }
      ]
    },
    {
      "cell_type": "markdown",
      "source": [
        "prompt : beri kode untuk menghitung nilai Calinski-Harabasz Index score untuk k=2 hingga k=10. berikan penjelasan perbaris kode."
      ],
      "metadata": {
        "id": "t0HMnky5Wsw_"
      }
    },
    {
      "cell_type": "markdown",
      "source": [
        "Penjelasan perbaris kode :\n",
        "1. Mengimpor perpustakaan yang diperlukan, termasuk KMeans dari scikit-learn untuk k-means clustering, calinski_harabasz_score untuk menghitung Calinski-Harabasz Index, dan StandardScaler untuk standarisasi data.\n",
        "2. Memilih subset dari dataframe df berdasarkan kolom yang disebutkan.\n",
        "3. Melakukan standarisasi data untuk memastikan bahwa semua variabel memiliki skala yang serupa.\n",
        "4. Melakukan loop untuk setiap nilai k dari 2 hingga 10.\n",
        "5. Membuat model k-means untuk setiap nilai k dan mendapatkan label cluster.\n",
        "6. Menghitung Calinski-Harabasz Index score menggunakan fungsi calinski_harabasz_score.\n",
        "7. Mencetak nilai Calinski-Harabasz Index untuk setiap nilai k. Semakin tinggi nilainya, semakin baik partisi clusteringnya."
      ],
      "metadata": {
        "id": "wOMxHVYuXDJw"
      }
    },
    {
      "cell_type": "code",
      "source": [
        "from sklearn.cluster import KMeans\n",
        "from sklearn.metrics import calinski_harabasz_score\n",
        "from sklearn.preprocessing import StandardScaler\n",
        "\n",
        "# Mengambil subset dari dataframe df berdasarkan kolom yang disebutkan\n",
        "selected_columns = ['Alcohol', 'Malic_Acid', 'Ash', 'Ash_Alcanity', 'Magnesium', 'Total_Phenols', 'Flavanoids',\n",
        "                     'Nonflavanoid_Phenols', 'Proanthocyanins', 'Color_Intensity', 'Hue', 'OD280', 'Proline']\n",
        "subset_df = df[selected_columns]\n",
        "\n",
        "# Standarisasi data\n",
        "scaler = StandardScaler()\n",
        "scaled_data = scaler.fit_transform(subset_df)\n",
        "\n",
        "# Mencetak nilai Calinski-Harabasz Index score untuk k=2 hingga k=10\n",
        "for k in range(2, 11):\n",
        "    kmeans = KMeans(n_clusters=k, random_state=42)\n",
        "    labels = kmeans.fit_predict(scaled_data)\n",
        "    score = calinski_harabasz_score(scaled_data, labels)\n",
        "    print(f'Calinski-Harabasz Index for k={k}: {score}')\n"
      ],
      "metadata": {
        "colab": {
          "base_uri": "https://localhost:8080/"
        },
        "id": "F3F-VBa4Ws-F",
        "outputId": "149f14ce-4352-45f3-ceb3-b6cf7af174d8"
      },
      "execution_count": 10,
      "outputs": [
        {
          "output_type": "stream",
          "name": "stderr",
          "text": [
            "/usr/local/lib/python3.10/dist-packages/sklearn/cluster/_kmeans.py:870: FutureWarning: The default value of `n_init` will change from 10 to 'auto' in 1.4. Set the value of `n_init` explicitly to suppress the warning\n",
            "  warnings.warn(\n"
          ]
        },
        {
          "output_type": "stream",
          "name": "stdout",
          "text": [
            "Calinski-Harabasz Index for k=2: 69.48646422404195\n"
          ]
        },
        {
          "output_type": "stream",
          "name": "stderr",
          "text": [
            "/usr/local/lib/python3.10/dist-packages/sklearn/cluster/_kmeans.py:870: FutureWarning: The default value of `n_init` will change from 10 to 'auto' in 1.4. Set the value of `n_init` explicitly to suppress the warning\n",
            "  warnings.warn(\n"
          ]
        },
        {
          "output_type": "stream",
          "name": "stdout",
          "text": [
            "Calinski-Harabasz Index for k=3: 70.94000800315118\n",
            "Calinski-Harabasz Index for k=4: 56.15446731005523\n",
            "Calinski-Harabasz Index for k=5: 47.331926636342615\n",
            "Calinski-Harabasz Index for k=6: 41.96471333831672\n",
            "Calinski-Harabasz Index for k=7: 38.24639729443255\n"
          ]
        },
        {
          "output_type": "stream",
          "name": "stderr",
          "text": [
            "/usr/local/lib/python3.10/dist-packages/sklearn/cluster/_kmeans.py:870: FutureWarning: The default value of `n_init` will change from 10 to 'auto' in 1.4. Set the value of `n_init` explicitly to suppress the warning\n",
            "  warnings.warn(\n",
            "/usr/local/lib/python3.10/dist-packages/sklearn/cluster/_kmeans.py:870: FutureWarning: The default value of `n_init` will change from 10 to 'auto' in 1.4. Set the value of `n_init` explicitly to suppress the warning\n",
            "  warnings.warn(\n",
            "/usr/local/lib/python3.10/dist-packages/sklearn/cluster/_kmeans.py:870: FutureWarning: The default value of `n_init` will change from 10 to 'auto' in 1.4. Set the value of `n_init` explicitly to suppress the warning\n",
            "  warnings.warn(\n",
            "/usr/local/lib/python3.10/dist-packages/sklearn/cluster/_kmeans.py:870: FutureWarning: The default value of `n_init` will change from 10 to 'auto' in 1.4. Set the value of `n_init` explicitly to suppress the warning\n",
            "  warnings.warn(\n",
            "/usr/local/lib/python3.10/dist-packages/sklearn/cluster/_kmeans.py:870: FutureWarning: The default value of `n_init` will change from 10 to 'auto' in 1.4. Set the value of `n_init` explicitly to suppress the warning\n",
            "  warnings.warn(\n"
          ]
        },
        {
          "output_type": "stream",
          "name": "stdout",
          "text": [
            "Calinski-Harabasz Index for k=8: 35.45347470260183\n",
            "Calinski-Harabasz Index for k=9: 33.06458540120726\n",
            "Calinski-Harabasz Index for k=10: 31.165714611025724\n"
          ]
        },
        {
          "output_type": "stream",
          "name": "stderr",
          "text": [
            "/usr/local/lib/python3.10/dist-packages/sklearn/cluster/_kmeans.py:870: FutureWarning: The default value of `n_init` will change from 10 to 'auto' in 1.4. Set the value of `n_init` explicitly to suppress the warning\n",
            "  warnings.warn(\n",
            "/usr/local/lib/python3.10/dist-packages/sklearn/cluster/_kmeans.py:870: FutureWarning: The default value of `n_init` will change from 10 to 'auto' in 1.4. Set the value of `n_init` explicitly to suppress the warning\n",
            "  warnings.warn(\n"
          ]
        }
      ]
    }
  ]
}